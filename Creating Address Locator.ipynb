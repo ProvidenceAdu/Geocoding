{
 "cells": [
  {
   "cell_type": "code",
   "execution_count": null,
   "metadata": {},
   "outputs": [],
   "source": [
    "'''\n",
    "Author : Providence Adu, PhD\n",
    "'''"
   ]
  },
  {
   "cell_type": "markdown",
   "metadata": {},
   "source": [
    "### Import Libraries"
   ]
  },
  {
   "cell_type": "code",
   "execution_count": 1,
   "metadata": {},
   "outputs": [],
   "source": [
    "import arcpy \n",
    "import pandas as pd \n",
    "import numpy as np\n",
    "import os"
   ]
  },
  {
   "cell_type": "markdown",
   "metadata": {},
   "source": [
    "`Check Arcpy Version: This locator was created you ArcPy Version 2.7`"
   ]
  },
  {
   "cell_type": "code",
   "execution_count": 5,
   "metadata": {},
   "outputs": [
    {
     "name": "stdout",
     "output_type": "stream",
     "text": [
      "2.7\n"
     ]
    }
   ],
   "source": [
    "print(arcpy.GetInstallInfo()['Version'])"
   ]
  },
  {
   "cell_type": "markdown",
   "metadata": {},
   "source": [
    "### Set Path\n",
    "- This is the path where you address locator will be saved"
   ]
  },
  {
   "cell_type": "code",
   "execution_count": 6,
   "metadata": {},
   "outputs": [],
   "source": [
    "path = \"C:\\\\Users\\\\padu\\\\Desktop\\\\UrbanInstitute\\\\Proximity Variables\\\\\"\n",
    "os.chdir(path)"
   ]
  },
  {
   "cell_type": "markdown",
   "metadata": {},
   "source": [
    "### Set working directory\n",
    "- This directory will be the geodatabase where you Master Address Table and Street Centerline feature class are stored\n",
    "- Set working environment: set work space to your geodatabase and overwrite to true"
   ]
  },
  {
   "cell_type": "code",
   "execution_count": 7,
   "metadata": {},
   "outputs": [],
   "source": [
    "ProjectGDB =  r\"C:\\\\Users\\\\padu\\\\Desktop\\\\UrbanInstitute\\\\Proximity Variables\\\\Proximity Variables.gdb\"\n",
    "arcpy.env.overwriteOutput = True\n",
    "arcpy.env.workspace = ProjectGDB"
   ]
  },
  {
   "cell_type": "markdown",
   "metadata": {},
   "source": [
    "### Create  A Point Address Locator\n",
    "\n",
    "- To create the a point Address locator, you need a [`point feature class master address table`](https://maps.mecknc.gov/openmapping/data.html#master%20address%20) with all the addresses in the Mecklenburg County\n",
    "- The master address table used in the example below is named `MAT2022`\n",
    "\n",
    "- The locator needs five main fields: the `country code`, `primary table`, `field mapping`, `name of the output locator` and `language`\n",
    "- **Primary Table** : Specify the role of the address table being used, in the example below, we are using `PointAddress` \n",
    "- **Field Mapping** : The field mapping allows you to match the fields in your address table to the locator role fields, for example in our master address table, the `address` field is the `FUll STREET NAME`, and `POSTAL`(zipcode)  is `zip1` , hence we map them accordingly. \n",
    "- **Output Locator** : The name you given your Address Locator, in the example below, we call the locator `MAT2022_Locator`\n",
    "- **Language code** : The language code is English specified as `ENG`\n",
    "\n",
    "\n",
    "- This locator was created with `Arcpy 2.7`, check your version of Arcpy using the code `print(arcpy.GetInstallInfo()['Version'])` and make your the way you execute your field mappings matches how it's done in your Arcpy version. For documentation on `Field Mapping` rules for the latest Arcpy Version, check this **[`link`](https://pro.arcgis.com/en/pro-app/latest/tool-reference/geocoding/create-locator.html)**\n",
    "\n",
    "**Running this script in the future**\n",
    "\n",
    "- Suppose you have a point feature class master address table named MAT2023 in your geodatabase:\n",
    "    * You can use Find and Replace to update the fields and run the script to create an address locator for your MAT2023 table. \n",
    "    * You can Find `MAT2022` and replace it with `MAT2023` then run the script to create your new locator\n",
    "    * Make sure your all the fields present in the `MAT2022` are also in the `MAT2023`, if the field names have been changed, you can update the names accordingly in the script\n",
    "    * Again check the `Arcpy Version` to ensure that the method being used in version 2.7 is consistent with your Arcpy Version. For example, in `Arcpy 3.3`, the `Field Mapping` uses a `List` instead of `Multiline String`"
   ]
  },
  {
   "cell_type": "code",
   "execution_count": 8,
   "metadata": {},
   "outputs": [
    {
     "data": {
      "text/html": [
       "<h2>Output</h2>C:\\\\Users\\\\padu\\\\Desktop\\\\UrbanInstitute\\\\Proximity Variables\\MAT2022_Locator<h2>Messages</h2>Start Time: Thursday, July 25, 2024 12:55:38 PM<br/>Locator build started<br/>Data processing started<br/>Processing Point Address role<br/>Finished processing data<br/>Finished initializing builder<br/>Initializing country info...<br/>Storing build info...<br/>Building location table...<br/>Building places table...<br/>Building relationships...<br/>Storing search index...<br/>Storing polygons...<br/>Building suggestions structures...<br/>Finalizing locator...<br/>Finished building locator<br/>Succeeded at Thursday, July 25, 2024 12:57:01 PM (Elapsed Time: 1 minutes 22 seconds)<br/><style>.rendered_html td, .rendered_html th {text-align: left;}.rendered_html tbody {border: 1px solid black;}</style>"
      ],
      "text/plain": [
       "<Result 'C:\\\\\\\\Users\\\\\\\\padu\\\\\\\\Desktop\\\\\\\\UrbanInstitute\\\\\\\\Proximity Variables\\\\MAT2022_Locator'>"
      ]
     },
     "execution_count": 8,
     "metadata": {},
     "output_type": "execute_result"
    }
   ],
   "source": [
    "countrycode = \"USA\"   \n",
    "primary_table = \"MAT2022 PointAddress\"                       \n",
    "field_mapping =   \"'PointAddress.ADDRESS_JOIN_ID  MAT2022.OBJECTID';\"\\\n",
    "                  \"'PointAddress.HOUSE_NUMBER MAT2022.txt_street';\"\\\n",
    "                  \"'PointAddress.STREET_NAME MAT2022.nme_street';\"\\\n",
    "                  \"'PointAddress.STREET_SUFFIX_TYPE MAT2022.repl_txt_r';\"\\\n",
    "                  \"'PointAddress.FULL_STREET_NAME MAT2022.address';\"\\\n",
    "                  \"'PointAddress.CITY MAT2022.nme_po_cit';\"\\\n",
    "                  \"'PointAddress.REGION_ABBR MAT2022.state';\"\\\n",
    "                  \"'PointAddress.POSTAL MAT2022.cde_zip1';\"\\\n",
    "                  \"'PointAddress.DISPLAY_X MAT2022.POINT_X';\"\\\n",
    "                  \"'PointAddress.DISPLAY_Y MAT2022.POINT_Y'\"\n",
    "out_locator = \"MAT2022_Locator\"\n",
    "languagecode = 'ENG' \n",
    "                             \n",
    "arcpy.geocoding.CreateLocator(countrycode, primary_table , field_mapping, out_locator,\n",
    "                              languagecode, None, None, None, \"GLOBAL_HIGH\")"
   ]
  },
  {
   "cell_type": "markdown",
   "metadata": {},
   "source": [
    "### Create  A Street Address Locator\n",
    "\n",
    "\n",
    "- To create the a Street Address locator, you need a [`street center line address table`](https://maps.mecknc.gov/openmapping/data.html#street%20centerline) with all the addresses in the Mecklenburg County\n",
    "\n",
    "- The master address table used in the example below is named `streets_2022`\n",
    "\n",
    "- The locator needs five main fields: the `country code`, `primary table`, `field mapping`, `name of the output locator` and `language`\n",
    "- **Primary Table** : Specify the role of the address table being used, in the example below, we are using `StreetAddress` \n",
    "- **Field Mapping** : The field mapping allows you to match the fields in your address table to the locator role fields, for example in our master address table, the `wholestnam` field is the `FULL STREET NAME`, and `POSTAL_RIGHT`(zipcode on right side of the street)  is `r_zipcode` , hence we map them accordingly. \n",
    "- **Output Locator** : The name you given your Address Locator, in the example below, we call the locator `StreetAddressLocator2022`\n",
    "- **Language code** : The language code is English specified as `ENG`\n",
    "\n",
    "\n",
    "- This locator was created with `Arcpy 2.7`, check your version of Arcpy using the code `print(arcpy.GetInstallInfo()['Version'])` and make your the way you execute your field mappings matches how it's done in your Arcpy version. For documentation on `Field Mapping` rules for the latest Arcpy Version, check this **[`link`](https://pro.arcgis.com/en/pro-app/latest/tool-reference/geocoding/create-locator.html)**\n",
    "\n",
    "\n",
    "**Running this script in the future**\n",
    "\n",
    "- Suppose you have a point feature class master address table named streets_2023 in your geodatabase:\n",
    "    * You can use Find and Replace to update the fields and run the script to create an address locator for your MAT2023 table. \n",
    "    * You can Find `streets_2022` and replace it with `streets_2023` then run the script to create your new locator\n",
    "    * Make sure your all the fields present in the `streets_2022` are also in the `streets_2023`, if the field names have been changed, you can update the names accordingly in the script\n",
    "    * Again check the `Arcpy Version` to ensure that the method being used in version 2.7 is consistent with your Arcpy Version. For example, in `Arcpy 3.3`, the `Field Mapping` uses a `List` instead of `Multiline String`"
   ]
  },
  {
   "cell_type": "code",
   "execution_count": 10,
   "metadata": {},
   "outputs": [
    {
     "data": {
      "text/html": [
       "<h2>Output</h2>C:\\\\Users\\\\padu\\\\Desktop\\\\UrbanInstitute\\\\Proximity Variables\\StreetAddressLocator2022<h2>Messages</h2>Start Time: Thursday, July 25, 2024 12:58:54 PM<br/>Locator build started<br/>Data processing started<br/>Processing Street Address role<br/>Finished processing data<br/>Finished initializing builder<br/>Initializing country info...<br/>Storing build info...<br/>Building location table...<br/>Building places table...<br/>Building relationships...<br/>Storing search index...<br/>Storing polygons...<br/>Building suggestions structures...<br/>Finalizing locator...<br/>Finished building locator<br/>Succeeded at Thursday, July 25, 2024 12:59:05 PM (Elapsed Time: 10.92 seconds)<br/><style>.rendered_html td, .rendered_html th {text-align: left;}.rendered_html tbody {border: 1px solid black;}</style>"
      ],
      "text/plain": [
       "<Result 'C:\\\\\\\\Users\\\\\\\\padu\\\\\\\\Desktop\\\\\\\\UrbanInstitute\\\\\\\\Proximity Variables\\\\StreetAddressLocator2022'>"
      ]
     },
     "execution_count": 10,
     "metadata": {},
     "output_type": "execute_result"
    }
   ],
   "source": [
    "countrycode = \"USA\"\n",
    "primary_table = \"streets_2022 StreetAddress\"\n",
    "field_mapping = \"'StreetAddress.STREET_NAME_JOIN_ID streets_2022.OBJECTID';\"\\\n",
    "                \"'StreetAddress.HOUSE_NUMBER_FROM_LEFT streets_2022.ll_add';\"\\\n",
    "                \"'StreetAddress.HOUSE_NUMBER_TO_LEFT streets_2022.ul_add';\"\\\n",
    "                \"'StreetAddress.HOUSE_NUMBER_FROM_RIGHT streets_2022.lr_add';\"\\\n",
    "                \"'StreetAddress.HOUSE_NUMBER_TO_RIGHT streets_2022.ur_add';\"\\\n",
    "                \"'StreetAddress.STREET_NAME streets_2022.streetname';\"\\\n",
    "                \"'StreetAddress.STREET_SUFFIX_TYPE streets_2022.streettype';\"\\\n",
    "                \"'StreetAddress.FULL_STREET_NAME streets_2022.wholestnam';\"\\\n",
    "                \"'StreetAddress.CITY_LEFT streets_2022.l_juris';\"\\\n",
    "                \"'StreetAddress.CITY_RIGHT streets_2022.r_juris';\"\\\n",
    "                \"'StreetAddress.POSTAL_LEFT streets_2022.l_zipcode';\"\\\n",
    "                \"'StreetAddress.POSTAL_RIGHT streets_2022.r_zipcode'\"\n",
    "out_locator = \"StreetAddressLocator2022\"\n",
    "languagecode = \"ENG\"\n",
    "arcpy.geocoding.CreateLocator(countrycode, primary_table, field_mapping, out_locator,\n",
    "                              languagecode, None, None, None, \"GLOBAL_HIGH\")"
   ]
  }
 ],
 "metadata": {
  "kernelspec": {
   "display_name": "Python 3",
   "language": "python",
   "name": "python3"
  },
  "language_info": {
   "codemirror_mode": {
    "name": "ipython",
    "version": 3
   },
   "file_extension": ".py",
   "mimetype": "text/x-python",
   "name": "python",
   "nbconvert_exporter": "python",
   "pygments_lexer": "ipython3",
   "version": "3.7.9"
  }
 },
 "nbformat": 4,
 "nbformat_minor": 4
}
